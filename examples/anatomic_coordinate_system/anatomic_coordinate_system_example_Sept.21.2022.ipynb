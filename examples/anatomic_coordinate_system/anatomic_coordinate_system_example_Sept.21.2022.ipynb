{
 "cells": [
  {
   "cell_type": "code",
   "execution_count": 11,
   "id": "7bc01de0",
   "metadata": {},
   "outputs": [],
   "source": [
    "import pymskt as mskt\n",
    "from pymskt.mesh import BoneMesh, CartilageMesh\n",
    "from pymskt.mesh.anatomical import FemurACS\n",
    "from pymskt.mesh.utils import get_arrow\n",
    "from itkwidgets import view\n",
    "\n",
    "import os\n",
    "import SimpleITK as sitk"
   ]
  },
  {
   "cell_type": "code",
   "execution_count": 5,
   "id": "ca0e6c8e",
   "metadata": {},
   "outputs": [],
   "source": [
    "location_seg = '../../data/right_knee_example.nrrd'"
   ]
  },
  {
   "cell_type": "code",
   "execution_count": 6,
   "id": "a230224b",
   "metadata": {},
   "outputs": [
    {
     "name": "stderr",
     "output_type": "stream",
     "text": [
      "Use of `point_arrays` is deprecated. Use `point_data` instead.\n",
      "Use of `cell_arrays` is deprecated. Use `cell_data` instead.\n"
     ]
    }
   ],
   "source": [
    "# initiate the bone mesh object\n",
    "femur = BoneMesh(\n",
    "    path_seg_image=location_seg,  # path to the segmentation image being used\n",
    "    label_idx=5,                  # what is the label of this bone\n",
    "    list_cartilage_labels=[1]     # a list of labels for cartialge associated w/ this bone\n",
    ")    \n",
    "\n",
    "# Create the bone mesh\n",
    "# This is the variance of a gaussian filter applied to binary image b4 finding the surface. \n",
    "femur.create_mesh(smooth_image_var=1.0)\n",
    "\n",
    "# Resample the bone surface to have a specified number of nodes. \n",
    "femur.resample_surface(clusters=10000)\n",
    "\n",
    "# Calcualte cartilage thickness for the cartialge meshes associated with the bone\n",
    "# variance is for the gaussian filter applied to the binary cart meshes b4 finding the surface. \n",
    "femur.calc_cartilage_thickness(image_smooth_var_cart=0.5)"
   ]
  },
  {
   "cell_type": "code",
   "execution_count": 12,
   "id": "91eaaab7",
   "metadata": {},
   "outputs": [
    {
     "name": "stdout",
     "output_type": "stream",
     "text": [
      "Fitting cylinder to condyles completed successfully!\n"
     ]
    }
   ],
   "source": [
    "# Load in full seg image\n",
    "seg_image = sitk.ReadImage(location_seg)\n",
    "# break into sub regions. (weightbearing / trochlea / posterior condyles)\n",
    "seg_image = mskt.image.cartilage_processing.get_knee_segmentation_with_femur_subregions(seg_image)\n",
    "\n",
    "# assign femoral condyle cartilage sub regions to femur \n",
    "femur.seg_image = seg_image\n",
    "femur.list_cartilage_labels=[11, 12, 13, 14, 15]\n",
    "femur.assign_cartilage_regions()\n",
    "\n",
    "# use cartilage regions to fit cylinder to condyles and create anatomic coordinate system \n",
    "femur_acs = FemurACS(femur, cart_label=(11, 12, 13, 14, 15))\n",
    "femur_acs.fit()"
   ]
  },
  {
   "cell_type": "code",
   "execution_count": 31,
   "id": "4b747de2",
   "metadata": {},
   "outputs": [],
   "source": [
    "radius = 0.01\n",
    "radius_ratio = 4\n",
    "scale = 100\n",
    "AP_arrow = get_arrow(femur_acs.ap_axis, scale=scale, origin=femur_acs.origin, shaft_radius=radius, tip_radius=radius*radius_ratio)\n",
    "IS_arrow = get_arrow(femur_acs.is_axis, scale=scale, origin=femur_acs.origin, shaft_radius=radius, tip_radius=radius*radius_ratio)\n",
    "ML_arrow_right = get_arrow(femur_acs.ml_axis, scale=scale, origin=femur_acs.origin, shaft_radius=radius, tip_radius=radius*radius_ratio)\n",
    "ML_arrow_left = get_arrow(-1*femur_acs.ml_axis, scale=scale, origin=femur_acs.origin, shaft_radius=radius, tip_radius=radius*radius_ratio)"
   ]
  },
  {
   "cell_type": "code",
   "execution_count": 32,
   "id": "99911b34",
   "metadata": {},
   "outputs": [
    {
     "data": {
      "application/vnd.jupyter.widget-view+json": {
       "model_id": "5f14c81bafc447acab141effd1f51157",
       "version_major": 2,
       "version_minor": 0
      },
      "text/plain": [
       "Viewer(geometries=[{'vtkClass': 'vtkPolyData', 'points': {'vtkClass': 'vtkPoints', 'name': '_points', 'numberO…"
      ]
     },
     "metadata": {},
     "output_type": "display_data"
    }
   ],
   "source": [
    "view(geometries=[femur.mesh, AP_arrow, IS_arrow, ML_arrow_right])"
   ]
  },
  {
   "cell_type": "code",
   "execution_count": 19,
   "id": "0727655b",
   "metadata": {},
   "outputs": [
    {
     "name": "stdout",
     "output_type": "stream",
     "text": [
      "Help on function get_arrow in module pymskt.mesh.utils:\n",
      "\n",
      "get_arrow(direction, origin, scale=100, tip_length=0.25, tip_radius=0.1, tip_resolution=20, shaft_radius=0.05, shaft_resolution=20)\n",
      "\n"
     ]
    }
   ],
   "source": [
    "help(get_arrow)"
   ]
  },
  {
   "cell_type": "code",
   "execution_count": null,
   "id": "7b2089fd",
   "metadata": {},
   "outputs": [],
   "source": []
  }
 ],
 "metadata": {
  "kernelspec": {
   "display_name": "Python 3 (ipykernel)",
   "language": "python",
   "name": "python3"
  },
  "language_info": {
   "codemirror_mode": {
    "name": "ipython",
    "version": 3
   },
   "file_extension": ".py",
   "mimetype": "text/x-python",
   "name": "python",
   "nbconvert_exporter": "python",
   "pygments_lexer": "ipython3",
   "version": "3.8.12"
  }
 },
 "nbformat": 4,
 "nbformat_minor": 5
}
