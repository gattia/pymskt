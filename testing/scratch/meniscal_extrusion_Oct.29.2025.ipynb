{
 "cells": [
  {
   "cell_type": "code",
   "execution_count": 1,
   "id": "2bf43a6a",
   "metadata": {},
   "outputs": [],
   "source": [
    "import pymskt as mskt\n",
    "from itkwidgets import view\n",
    "import numpy as np\n",
    "import os\n",
    "import matplotlib.pyplot as plt"
   ]
  },
  {
   "cell_type": "code",
   "execution_count": 2,
   "id": "843e0dda",
   "metadata": {},
   "outputs": [
    {
     "name": "stdout",
     "output_type": "stream",
     "text": [
      "Initiating tibia mesh\n",
      "Creating tibia mesh\n",
      "Calculating cartilage thickness\n",
      "WARNING: Mesh is now synonymous with pyvista.PolyData and thus this property is redundant and the Mesh object can be used for anything that pyvista.PolyData or vtk.vtkPolyData can be used for.\n",
      "WARNING: Mesh is now synonymous with pyvista.PolyData and thus this property is redundant and the Mesh object can be used for anything that pyvista.PolyData or vtk.vtkPolyData can be used for.\n",
      "INTERSECTION IS:  2\n",
      "INTERSECTION IS:  2\n",
      "Assigning cartilage regions\n",
      "INTERSECTION IS:  2\n",
      "INTERSECTION IS:  2\n"
     ]
    }
   ],
   "source": [
    "path_segmentation = '../../data/SAG_3D_DESS_RIGHT_bones_cart_men_fib-label.nrrd'\n",
    "\n",
    "print('Initiating tibia mesh')\n",
    "tibia = mskt.mesh.BoneMesh(\n",
    "    path_seg_image=path_segmentation,\n",
    "    label_idx=6,\n",
    "    list_cartilage_labels=[2, 3]\n",
    ")\n",
    "\n",
    "print('Creating tibia mesh')\n",
    "tibia.create_mesh()\n",
    "\n",
    "print('Calculating cartilage thickness')\n",
    "tibia.calc_cartilage_thickness()\n",
    "print('Assigning cartilage regions')\n",
    "tibia.assign_cartilage_regions()"
   ]
  },
  {
   "cell_type": "code",
   "execution_count": 3,
   "id": "8f070b73",
   "metadata": {},
   "outputs": [
    {
     "data": {
      "application/vnd.jupyter.widget-view+json": {
       "model_id": "9690c36889bd41aba731b0080e5f899d",
       "version_major": 2,
       "version_minor": 0
      },
      "text/plain": [
       "Viewer(geometries=[{'vtkClass': 'vtkPolyData', 'points': {'vtkClass': 'vtkPoints', 'name': '_points', 'numberO…"
      ]
     },
     "metadata": {},
     "output_type": "display_data"
    }
   ],
   "source": [
    "view(geometries=[tibia])"
   ]
  },
  {
   "cell_type": "code",
   "execution_count": 6,
   "id": "2ea8d441",
   "metadata": {},
   "outputs": [],
   "source": [
    "import numpy as np\n",
    "\n",
    "regions_label = 'labels'\n",
    "med_tib_cart_label = 2\n",
    "lat_tib_cart_label = 3\n",
    "\n",
    "region_array = tibia[regions_label]\n",
    "med_tib_cart_mask = (region_array == med_tib_cart_label)\n",
    "lat_tib_cart_mask = (region_array == lat_tib_cart_label)\n",
    "\n",
    "med_tib_cart_points = tibia.points[med_tib_cart_mask]\n",
    "lat_tib_cart_points = tibia.points[lat_tib_cart_mask]\n",
    "tib_cart_points = np.concatenate([med_tib_cart_points, lat_tib_cart_points], axis=0)\n",
    "\n",
    "# do PCA to get the three axes of the tib_cart_points and take the last\n",
    "# one as the inf/sup\n",
    "X = tib_cart_points - tib_cart_points.mean(axis=0, keepdims=True)  # (N,3)\n",
    "# PCA via SVD: X = U S Vt, rows of Vt are PCs\n",
    "U, S, Vt = np.linalg.svd(X, full_matrices=False)\n",
    "pc1, pc2, pc3 = Vt  # already orthonormal\n",
    "\n",
    "is_axis = pc3\n",
    "\n",
    "# from the PCA we cant know what it up. We should check which side the meniscus is on...\n",
    "# or... which side the bone is on... So, from the middle of the cartilage, \n",
    "# the opposide of the direction of the middle of the bone is the IS axis. \n",
    "mean_tib = np.mean(tibia.points, axis=0)\n",
    "mean_cart = np.mean(tib_cart_points, axis=0)\n",
    "\n",
    "# update is_axis direction based on where mean_tib is relative to mean_cart\n",
    "if np.dot(mean_tib - mean_cart, is_axis) > 0:\n",
    "    is_axis = -is_axis\n",
    "\n",
    "\n",
    "med_tib_center = np.mean(med_tib_cart_points, axis=0)\n",
    "lat_tib_center = np.mean(lat_tib_cart_points, axis=0)\n",
    "\n",
    "ml_axis = lat_tib_center - med_tib_center\n",
    "ml_axis = ml_axis / np.linalg.norm(ml_axis)\n",
    "\n",
    "ap_axis = np.cross(ml_axis, is_axis)\n",
    "ap_axis = ap_axis / np.linalg.norm(ap_axis)\n",
    "\n",
    "dict_tibia_axes = {\n",
    "    'ml_axis': ml_axis,\n",
    "    'is_axis': is_axis,\n",
    "    'ap_axis': ap_axis,\n",
    "    'medial_center': med_tib_center,\n",
    "    'lateral_center': lat_tib_center,\n",
    "}\n",
    "\n",
    "def get_tibia_axes_meniscal_extrusion(\n",
    "    tibia_mesh, \n",
    "    regions_label,\n",
    "    med_tib_cart_label,\n",
    "    lat_tib_cart_label,\n",
    "):\n",
    "    region_array = tibia_mesh[regions_label]\n",
    "    med_tib_cart_mask = (region_array == med_tib_cart_label)\n",
    "    lat_tib_cart_mask = (region_array == lat_tib_cart_label)\n",
    "\n",
    "    med_tib_cart_points = tibia_mesh.points[med_tib_cart_mask]\n",
    "    lat_tib_cart_points = tibia_mesh.points[lat_tib_cart_mask]\n",
    "    tib_cart_points = np.concatenate([med_tib_cart_points, lat_tib_cart_points], axis=0)\n",
    "\n",
    "    # do PCA to get the three axes of the tib_cart_points and take the last\n",
    "    # one as the inf/sup\n",
    "    X = tib_cart_points - tib_cart_points.mean(axis=0, keepdims=True)  # (N,3)\n",
    "    # PCA via SVD: X = U S Vt, rows of Vt are PCs\n",
    "    U, S, Vt = np.linalg.svd(X, full_matrices=False)\n",
    "    pc1, pc2, pc3 = Vt  # already orthonormal\n",
    "\n",
    "    is_axis = pc3\n",
    "    # from the PCA we cant know what it up. We should check which side the meniscus is on...\n",
    "    # or... which side the bone is on... So, from the middle of the cartilage, \n",
    "    # the opposide of the direction of the middle of the bone is the IS axis. \n",
    "    mean_tib = np.mean(tibia.points, axis=0)\n",
    "    mean_cart = np.mean(tib_cart_points, axis=0)\n",
    "\n",
    "    # update is_axis direction based on where mean_tib is relative to mean_cart\n",
    "    if np.dot(mean_tib - mean_cart, is_axis) > 0:\n",
    "        is_axis = -is_axis\n",
    "    \n",
    "    med_tib_center = np.mean(med_tib_cart_points, axis=0)\n",
    "    lat_tib_center = np.mean(lat_tib_cart_points, axis=0)\n",
    "\n",
    "    ml_axis = lat_tib_center - med_tib_center\n",
    "    ml_axis = ml_axis / np.linalg.norm(ml_axis)\n",
    "    \n",
    "    ap_axis = np.cross(ml_axis, is_axis)\n",
    "    ap_axis = ap_axis / np.linalg.norm(ap_axis)\n",
    "\n",
    "    dict_tibia_axes = {\n",
    "        'ml_axis': ml_axis,\n",
    "        'is_axis': is_axis,\n",
    "        'ap_axis': ap_axis,\n",
    "        'medial_center': med_tib_center,\n",
    "        'lateral_center': lat_tib_center,\n",
    "    }\n",
    "    \n",
    "    return dict_tibia_axes\n"
   ]
  },
  {
   "cell_type": "code",
   "execution_count": 8,
   "id": "98c2f353",
   "metadata": {},
   "outputs": [
    {
     "name": "stdout",
     "output_type": "stream",
     "text": [
      "{'ml_axis': pyvista_ndarray([-0.9919523 ,  0.12175144,  0.0347462 ], dtype=float32), 'is_axis': array([0.03815307, 0.04018929, 0.9984634 ], dtype=float32), 'ap_axis': array([ 0.12016812,  0.99175525, -0.04451112], dtype=float32), 'medial_center': pyvista_ndarray([-57.089283,  -5.439862,  -9.311588], dtype=float32), 'lateral_center': pyvista_ndarray([-92.64511  ,  -1.0757675,  -8.066135 ], dtype=float32)}\n",
      "{'ml_axis': pyvista_ndarray([-0.9919523 ,  0.12175144,  0.0347462 ], dtype=float32), 'is_axis': array([0.03815307, 0.04018929, 0.9984634 ], dtype=float32), 'ap_axis': array([ 0.12016812,  0.99175525, -0.04451112], dtype=float32), 'medial_center': pyvista_ndarray([-57.089283,  -5.439862,  -9.311588], dtype=float32), 'lateral_center': pyvista_ndarray([-92.64511  ,  -1.0757675,  -8.066135 ], dtype=float32)}\n"
     ]
    }
   ],
   "source": [
    "dict_tibia_axes_func = get_tibia_axes_meniscal_extrusion(\n",
    "    tibia_mesh=tibia, \n",
    "    regions_label='labels',\n",
    "    med_tib_cart_label=2,\n",
    "    lat_tib_cart_label=3,\n",
    ")\n",
    "\n",
    "print(dict_tibia_axes)\n",
    "print(dict_tibia_axes_func)"
   ]
  },
  {
   "cell_type": "code",
   "execution_count": 9,
   "id": "1164c084",
   "metadata": {},
   "outputs": [],
   "source": [
    "# now label tibia points as having meniscus above them along the si_axis\n",
    "\n",
    "med_meniscus = mskt.mesh.Mesh(\n",
    "    path_seg_image=path_segmentation,\n",
    "    label_idx=10,\n",
    ")\n",
    "med_meniscus.create_mesh()\n",
    "med_meniscus.consistent_faces()\n",
    "\n",
    "lat_meniscus = mskt.mesh.Mesh(\n",
    "    path_seg_image=path_segmentation,\n",
    "    label_idx=9,\n",
    ")\n",
    "lat_meniscus.create_mesh()\n",
    "lat_meniscus.consistent_faces()\n"
   ]
  },
  {
   "cell_type": "code",
   "execution_count": 10,
   "id": "4fcee9e4",
   "metadata": {},
   "outputs": [
    {
     "data": {
      "application/vnd.jupyter.widget-view+json": {
       "model_id": "22b292b9804f4707ad5fabbefcc672a1",
       "version_major": 2,
       "version_minor": 0
      },
      "text/plain": [
       "Viewer(geometries=[{'vtkClass': 'vtkPolyData', 'points': {'vtkClass': 'vtkPoints', 'name': '_points', 'numberO…"
      ]
     },
     "metadata": {},
     "output_type": "display_data"
    }
   ],
   "source": [
    "view(geometries=[tibia, med_meniscus, lat_meniscus])"
   ]
  },
  {
   "cell_type": "code",
   "execution_count": 23,
   "id": "c460b7b3",
   "metadata": {},
   "outputs": [],
   "source": [
    "tibia.calc_distance_to_other_mesh(\n",
    "    list_other_meshes=[med_meniscus],\n",
    "    ray_cast_length=10, \n",
    "    name='med_men_dist_mm',\n",
    "    direction=dict_tibia_axes['is_axis'],\n",
    ")\n",
    "\n",
    "tibia.calc_distance_to_other_mesh(\n",
    "    list_other_meshes=[lat_meniscus],\n",
    "    ray_cast_length=10, \n",
    "    name='lat_men_dist_mm',\n",
    "    direction=dict_tibia_axes['is_axis'],\n",
    ")\n",
    "\n",
    "binary_mask_med_men_above = tibia['med_men_dist_mm'] > 0\n",
    "binary_mask_lat_men_above = tibia['lat_men_dist_mm'] > 0\n",
    "\n",
    "binary_mask_med_cart = tibia['labels'] == med_tib_cart_label\n",
    "binary_mask_lat_cart = tibia['labels'] == lat_tib_cart_label\n",
    "\n",
    "tibia['med_men_above'] = binary_mask_med_men_above.astype(float)\n",
    "tibia['lat_men_above'] = binary_mask_lat_men_above.astype(float)\n",
    "    \n"
   ]
  },
  {
   "cell_type": "code",
   "execution_count": 24,
   "id": "d76982df",
   "metadata": {},
   "outputs": [
    {
     "data": {
      "application/vnd.jupyter.widget-view+json": {
       "model_id": "06c9a515106e40df9f0b2ef1a970ff75",
       "version_major": 2,
       "version_minor": 0
      },
      "text/plain": [
       "Viewer(geometries=[{'vtkClass': 'vtkPolyData', 'points': {'vtkClass': 'vtkPoints', 'name': '_points', 'numberO…"
      ]
     },
     "metadata": {},
     "output_type": "display_data"
    }
   ],
   "source": [
    "view(geometries=[tibia])"
   ]
  },
  {
   "cell_type": "code",
   "execution_count": 25,
   "id": "65bdf405",
   "metadata": {},
   "outputs": [
    {
     "name": "stdout",
     "output_type": "stream",
     "text": [
      "Med Cart Area: 868.46 mm^2\n",
      "Med Cart Men Area: 346.47 mm^2\n",
      "Percent Med Men Coverage: 39.89%\n"
     ]
    },
    {
     "data": {
      "application/vnd.jupyter.widget-view+json": {
       "model_id": "c6dcfa1970814b7aae31496352b9c6a8",
       "version_major": 2,
       "version_minor": 0
      },
      "text/plain": [
       "Viewer(geometries=[{'vtkClass': 'vtkPolyData', 'points': {'vtkClass': 'vtkPoints', 'name': '_points', 'numberO…"
      ]
     },
     "metadata": {},
     "output_type": "display_data"
    }
   ],
   "source": [
    "tibia_med_cart = tibia.copy()\n",
    "# delete points that are not medial cartilage\n",
    "tibia_med_cart.remove_points(~binary_mask_med_cart, inplace=True)\n",
    "tibia_med_cart.clean(inplace=True)\n",
    "\n",
    "area_med_cart = tibia_med_cart.area\n",
    "\n",
    "tibia_med_cart_men = tibia_med_cart.copy()\n",
    "tibia_med_cart_men.remove_points(tibia_med_cart_men['med_men_above'] == 0, inplace=True)\n",
    "tibia_med_cart_men.clean(inplace=True)\n",
    "\n",
    "area_med_cart_men = tibia_med_cart_men.area\n",
    "\n",
    "percent_med_men_coverage = (area_med_cart_men / area_med_cart) * 100\n",
    "\n",
    "print(f'Med Cart Area: {area_med_cart:.2f} mm^2')\n",
    "print(f'Med Cart Men Area: {area_med_cart_men:.2f} mm^2')\n",
    "print(f'Percent Med Men Coverage: {percent_med_men_coverage:.2f}%')\n",
    "\n",
    "view(geometries=[tibia, tibia_med_cart, tibia_med_cart_men])"
   ]
  },
  {
   "cell_type": "code",
   "execution_count": 26,
   "id": "0b5987ed",
   "metadata": {},
   "outputs": [],
   "source": [
    "def get_meniscal_coverage(\n",
    "    tibia_mesh,\n",
    "    meniscal_mesh,\n",
    "    tibia_regions_label,\n",
    "    tibia_cart_label,\n",
    "    is_direction,\n",
    "    meniscus_side,\n",
    "    ray_cast_length=20,\n",
    "):\n",
    "    tibia_mesh.calc_distance_to_other_mesh(\n",
    "        list_other_meshes=[meniscal_mesh],\n",
    "        ray_cast_length=ray_cast_length, \n",
    "        name=f'{meniscus_side}_men_dist_mm',\n",
    "        direction=is_direction,\n",
    "    )\n",
    "    binary_mask_men_above = tibia_mesh[f'{meniscus_side}_men_dist_mm'] > 0\n",
    "    binary_mask_cart = tibia_mesh[tibia_regions_label] == tibia_cart_label\n",
    "    tibia_mesh[f'{meniscus_side}_men_above'] = binary_mask_men_above.astype(float)\n",
    "    tibia_mesh[f'{meniscus_side}_cart'] = binary_mask_cart.astype(float)\n",
    "\n",
    "    tibia_cart = tibia_mesh.copy()\n",
    "    # delete points that are not medial cartilage\n",
    "    tibia_cart.remove_points(~binary_mask_cart, inplace=True)\n",
    "    tibia_cart.clean(inplace=True)\n",
    "\n",
    "    area_cart = tibia_cart.area\n",
    "\n",
    "    tibia_cart_men = tibia_cart.copy()\n",
    "    tibia_cart_men.remove_points(tibia_cart_men[f'{meniscus_side}_men_above'] == 0, inplace=True)\n",
    "    tibia_cart_men.clean(inplace=True)\n",
    "\n",
    "    area_cart_men = tibia_cart_men.area\n",
    "\n",
    "    percent_cart_men_coverage = (area_cart_men / area_cart) * 100\n",
    "    \n",
    "    dict_meniscal_coverage = {\n",
    "        f'{meniscus_side}_cart_men_coverage': percent_cart_men_coverage,\n",
    "        f'{meniscus_side}_cart_men_area': area_cart_men,\n",
    "        f'{meniscus_side}_cart_area': area_cart,\n",
    "    }\n",
    "    \n",
    "    return dict_meniscal_coverage\n",
    "\n",
    "dict_med_men_coverage = get_meniscal_coverage(\n",
    "    tibia_mesh=tibia,\n",
    "    meniscal_mesh=med_meniscus,\n",
    "    tibia_regions_label='labels',\n",
    "    tibia_cart_label=2,\n",
    "    meniscus_side='med',\n",
    "    is_direction=dict_tibia_axes['is_axis'],\n",
    ")\n",
    "\n",
    "dict_lat_men_coverage = get_meniscal_coverage(\n",
    "    tibia_mesh=tibia,\n",
    "    meniscal_mesh=lat_meniscus,\n",
    "    tibia_regions_label='labels',\n",
    "    tibia_cart_label=3,\n",
    "    meniscus_side='lat',\n",
    "    is_direction=dict_tibia_axes['is_axis'],\n",
    ")\n",
    "        "
   ]
  },
  {
   "cell_type": "code",
   "execution_count": 27,
   "id": "e350fef2",
   "metadata": {},
   "outputs": [
    {
     "name": "stdout",
     "output_type": "stream",
     "text": [
      "{'med_cart_men_coverage': 39.89438019552111, 'med_cart_men_area': 346.4668587995976, 'med_cart_area': 868.460312208322}\n",
      "{'lat_cart_men_coverage': 59.36730303771416, 'lat_cart_men_area': 438.1155627617297, 'lat_cart_area': 737.9745084317016}\n"
     ]
    }
   ],
   "source": [
    "print(dict_med_men_coverage)\n",
    "print(dict_lat_men_coverage)"
   ]
  },
  {
   "cell_type": "code",
   "execution_count": 28,
   "id": "d7afcb99",
   "metadata": {},
   "outputs": [
    {
     "data": {
      "text/plain": [
       "'\\nNow I want to work on extrusion. \\n- We have the ML axis from the tibia.\\n- We have the medial/lateral meniscus segmentation on the bone to define the edge that\\nextrusion will be compared against. \\n- We will use the meniscus itself to define the extrusion depth.\\n\\n- We are just going to bin X number of bins in the AP direction (disregarding what is front/back)\\n- We will compute extrusion +/- for each bin\\n- We will then return the: mean, median, min, max, std of extrusion. \\n'"
      ]
     },
     "execution_count": 28,
     "metadata": {},
     "output_type": "execute_result"
    }
   ],
   "source": [
    "\"\"\"\n",
    "Now I want to work on extrusion. \n",
    "- We have the ML axis from the tibia.\n",
    "- We have the medial/lateral meniscus segmentation on the bone to define the edge that\n",
    "extrusion will be compared against. \n",
    "- We will use the meniscus itself to define the extrusion depth.\n",
    "\n",
    "- We are just going to bin X number of bins in the AP direction (disregarding what is front/back)\n",
    "- We will compute extrusion +/- for each bin\n",
    "- We will then return the: mean, median, min, max, std of extrusion. \n",
    "\"\"\""
   ]
  },
  {
   "cell_type": "code",
   "execution_count": 29,
   "id": "0b2c988d",
   "metadata": {},
   "outputs": [
    {
     "name": "stdout",
     "output_type": "stream",
     "text": [
      "Extrusion: -3.97 mm\n"
     ]
    }
   ],
   "source": [
    "# project all med cart points onto the ML axis\n",
    "tib_cart_label = 'labels'\n",
    "med_tib_cart_label = 2\n",
    "lat_tib_cart_label = 3\n",
    "\n",
    "med_cart_points = tibia[tib_cart_label] == med_tib_cart_label\n",
    "\n",
    "med_cart_points = tibia.points[med_cart_points]\n",
    "\n",
    "# project med_cart_points onto the ML axis\n",
    "ml_axis = dict_tibia_axes['ml_axis']\n",
    "med_cart_points_ml = np.dot(med_cart_points, ml_axis)\n",
    "\n",
    "# get medial meniscus points & project onto the ML axis\n",
    "med_men_points = med_meniscus.points\n",
    "med_men_points_ml = np.dot(med_men_points, ml_axis)\n",
    "\n",
    "# get the min of the medial cart and the min of the medial men\n",
    "min_med_cart_ml = np.min(med_cart_points_ml)\n",
    "min_med_men_ml = np.min(med_men_points_ml)\n",
    "\n",
    "extrusion = min_med_men_ml - min_med_cart_ml\n",
    "\n",
    "print(f'Extrusion: {extrusion:.2f} mm')\n"
   ]
  },
  {
   "cell_type": "code",
   "execution_count": 30,
   "id": "15637c08",
   "metadata": {},
   "outputs": [
    {
     "data": {
      "image/png": "[encoded data removed]",
      "text/plain": [
       "<Figure size 640x480 with 1 Axes>"
      ]
     },
     "metadata": {},
     "output_type": "display_data"
    }
   ],
   "source": [
    "plt.hist(med_cart_points_ml)\n",
    "plt.hist(med_men_points_ml, alpha=0.5)\n",
    "plt.show()"
   ]
  },
  {
   "cell_type": "code",
   "execution_count": 31,
   "id": "8cbede8b",
   "metadata": {},
   "outputs": [
    {
     "data": {
      "text/plain": [
       "[<matplotlib.lines.Line2D at 0x33292b6d0>]"
      ]
     },
     "execution_count": 31,
     "metadata": {},
     "output_type": "execute_result"
    },
    {
     "data": {
      "image/png": "[encoded data removed]",
      "text/plain": [
       "<Figure size 640x480 with 1 Axes>"
      ]
     },
     "metadata": {},
     "output_type": "display_data"
    }
   ],
   "source": [
    "def _get_extrusion_points(\n",
    "    cart_points,\n",
    "    men_points,\n",
    "    ml_axis,\n",
    "    side,\n",
    "):\n",
    "    cart_points_ml = np.dot(cart_points, ml_axis)\n",
    "    men_points_ml = np.dot(men_points, ml_axis)\n",
    "\n",
    "    if side in ['med', 'medial']:\n",
    "        cart_edge = np.min(cart_points_ml)\n",
    "        men_edge = np.min(men_points_ml)\n",
    "        extrusion = cart_edge - men_edge\n",
    "    elif side in ['lat', 'lateral']:\n",
    "        cart_edge = np.max(cart_points_ml)\n",
    "        men_edge = np.max(men_points_ml)\n",
    "        extrusion = men_edge - cart_edge\n",
    "    else:\n",
    "        raise ValueError(f'Invalid side: {side}, must be one of: med, medial, lat, lateral')\n",
    "\n",
    "    return extrusion\n",
    "\n",
    "\n",
    "# breakup points by bins in the AP direction. \n",
    "n_bins = 10\n",
    "\n",
    "tib_cart_label = 'labels'\n",
    "med_tib_cart_label = 2\n",
    "lat_tib_cart_label = 3\n",
    "\n",
    "med_cart_points = tibia[tib_cart_label] == med_tib_cart_label\n",
    "med_cart_points = tibia.points[med_cart_points]\n",
    "\n",
    "med_men_points = med_meniscus.points\n",
    "\n",
    "ap_axis = dict_tibia_axes['ap_axis']\n",
    "\n",
    "# project med_cart_points onto the AP axis\n",
    "med_cart_points_ap = np.dot(med_cart_points, ap_axis)\n",
    "min_med_cart_ap = np.min(med_cart_points_ap)\n",
    "max_med_cart_ap = np.max(med_cart_points_ap)\n",
    "bins = np.linspace(min_med_cart_ap, max_med_cart_ap, n_bins+1)\n",
    "\n",
    "med_men_points_ap = np.dot(med_men_points, ap_axis)\n",
    "\n",
    "list_extrusions = []\n",
    "for i in range(n_bins):\n",
    "    bin_start = bins[i]\n",
    "    bin_end = bins[i+1]\n",
    "    bin_mask_cart = (med_cart_points_ap >= bin_start) & (med_cart_points_ap < bin_end)\n",
    "    bin_cart_points = med_cart_points[bin_mask_cart]\n",
    "    bin_mask_men = (med_men_points_ap >= bin_start) & (med_men_points_ap < bin_end)\n",
    "    bin_men_points = med_men_points[bin_mask_men]\n",
    "    \n",
    "    extrusion = _get_extrusion_points(\n",
    "        cart_points=bin_cart_points,\n",
    "        men_points=bin_men_points,\n",
    "        ml_axis=ml_axis,\n",
    "        side='med',\n",
    "    )\n",
    "    list_extrusions.append(extrusion)\n",
    "    \n",
    "plt.plot(list_extrusions)\n"
   ]
  },
  {
   "cell_type": "code",
   "execution_count": 32,
   "id": "3c65964d",
   "metadata": {},
   "outputs": [
    {
     "name": "stdout",
     "output_type": "stream",
     "text": [
      "Med Men Extrusion: 3.89 mm\n",
      "Lat Men Extrusion: -0.47 mm\n",
      "Lat Men Shift Extrusion: 4.33 mm\n",
      "Med Men Shift Extrusion: -1.22 mm\n"
     ]
    }
   ],
   "source": [
    "def get_extrusion_stats_percentile(\n",
    "    tibia_mesh,\n",
    "    regions_label,\n",
    "    cart_label,\n",
    "    meniscus_mesh,\n",
    "    ap_axis,\n",
    "    ml_axis,\n",
    "    side,\n",
    "    middle_percentile_range=0.1,\n",
    "):\n",
    "    cart_indices = tibia_mesh[regions_label] == cart_label\n",
    "    cart_points = tibia_mesh.points[cart_indices]\n",
    "    men_points = meniscus_mesh.points\n",
    "\n",
    "    # project med_cart_points onto the AP axis\n",
    "    cart_points_ap = np.dot(cart_points, ap_axis)\n",
    "    min_cart_ap = np.min(cart_points_ap)\n",
    "    max_cart_ap = np.max(cart_points_ap)\n",
    "    \n",
    "    # get the middle +/- middle_percentile_range/2 of the med_cart_points_ap\n",
    "    # along the AP axis\n",
    "    middle_ap_cartilage = (min_cart_ap + max_cart_ap) / 2\n",
    "    min_max_ap_cartilage_range = max_cart_ap - min_cart_ap\n",
    "    plus_minus_ap_cartilage_range = min_max_ap_cartilage_range * middle_percentile_range / 2    \n",
    "    lower_ap_cartilage = middle_ap_cartilage - plus_minus_ap_cartilage_range\n",
    "    upper_ap_cartilage = middle_ap_cartilage + plus_minus_ap_cartilage_range\n",
    "    \n",
    "    # get the points along the AP axis that are within the lower_ap_cartilage and upper_ap_cartilage\n",
    "    ap_cart_indices = (cart_points_ap >= lower_ap_cartilage) & (cart_points_ap <= upper_ap_cartilage)\n",
    "    # ap_cart_points = med_cart_points[ap_cart_indices]\n",
    "    \n",
    "    # project meniscus points onto the AP axis\n",
    "    men_points_ap = np.dot(men_points, ap_axis)\n",
    "    \n",
    "    # get the points along the AP axis that are within the lower_ap_cartilage and upper_ap_cartilage\n",
    "    ap_men_indices = (men_points_ap >= lower_ap_cartilage) & (men_points_ap <= upper_ap_cartilage)\n",
    "    # ap_men_points = men_points[ap_men_indices]\n",
    "    \n",
    "    # we now have the ap_men_indices and ap_cart_indices\n",
    "    # we now need to extract the ml projected coordinates for these\n",
    "    # ap points\n",
    "    ml_cart_points = cart_points[ap_cart_indices]\n",
    "    ml_men_points = men_points[ap_men_indices]\n",
    "    \n",
    "    # get the extrusion for each point\n",
    "    extrusion = _get_extrusion_points(\n",
    "        cart_points=ml_cart_points,\n",
    "        men_points=ml_men_points,\n",
    "        ml_axis=ml_axis,\n",
    "        side=side,\n",
    "    )\n",
    "    \n",
    "    return extrusion\n",
    "\n",
    "\n",
    "med_men_extrusion = get_extrusion_stats_percentile(\n",
    "    tibia_mesh=tibia,\n",
    "    regions_label='labels',\n",
    "    cart_label=2,\n",
    "    meniscus_mesh=med_meniscus,\n",
    "    ap_axis=dict_tibia_axes['ap_axis'],\n",
    "    ml_axis=dict_tibia_axes['ml_axis'],\n",
    "    middle_percentile_range=0.1,\n",
    "    side='med',\n",
    ")\n",
    "\n",
    "lat_men_extrusion = get_extrusion_stats_percentile(\n",
    "    tibia_mesh=tibia,\n",
    "    regions_label='labels',\n",
    "    cart_label=3,\n",
    "    meniscus_mesh=lat_meniscus,\n",
    "    ap_axis=dict_tibia_axes['ap_axis'],\n",
    "    ml_axis=dict_tibia_axes['ml_axis'],\n",
    "    middle_percentile_range=0.1,\n",
    "    side='lat',\n",
    ")\n",
    "\n",
    "    \n",
    "    \n",
    "    \n",
    "print(f'Med Men Extrusion: {med_men_extrusion:.2f} mm')\n",
    "print(f'Lat Men Extrusion: {lat_men_extrusion:.2f} mm')\n",
    "\n",
    "late_men_shifted = lat_meniscus.copy()\n",
    "late_men_shifted.points -= [5, 0, 0]\n",
    "\n",
    "lat_men_shift_extrusion = get_extrusion_stats_percentile(\n",
    "    tibia_mesh=tibia,\n",
    "    regions_label='labels',\n",
    "    cart_label=3,\n",
    "    meniscus_mesh=late_men_shifted,\n",
    "    ap_axis=dict_tibia_axes['ap_axis'],\n",
    "    ml_axis=dict_tibia_axes['ml_axis'],\n",
    "    middle_percentile_range=0.1,\n",
    "    side='lat',\n",
    ")\n",
    "\n",
    "print(f'Lat Men Shift Extrusion: {lat_men_shift_extrusion:.2f} mm')\n",
    "\n",
    "med_men_shifted = med_meniscus.copy()\n",
    "med_men_shifted.points -= [5, 0, 0]\n",
    "\n",
    "med_men_shift_extrusion = get_extrusion_stats_percentile(\n",
    "    tibia_mesh=tibia,\n",
    "    regions_label='labels',\n",
    "    cart_label=2,\n",
    "    meniscus_mesh=med_men_shifted,\n",
    "    ap_axis=dict_tibia_axes['ap_axis'],\n",
    "    ml_axis=dict_tibia_axes['ml_axis'],\n",
    "    middle_percentile_range=0.1,\n",
    "    side='med',\n",
    ")\n",
    "\n",
    "print(f'Med Men Shift Extrusion: {med_men_shift_extrusion:.2f} mm')\n"
   ]
  },
  {
   "cell_type": "code",
   "execution_count": 33,
   "id": "ca0e7dc9",
   "metadata": {},
   "outputs": [
    {
     "data": {
      "application/vnd.jupyter.widget-view+json": {
       "model_id": "b5eebd1bcd784711b74e95a0fcce88ce",
       "version_major": 2,
       "version_minor": 0
      },
      "text/plain": [
       "Viewer(geometries=[{'vtkClass': 'vtkPolyData', 'points': {'vtkClass': 'vtkPoints', 'name': '_points', 'numberO…"
      ]
     },
     "metadata": {},
     "output_type": "display_data"
    }
   ],
   "source": [
    "view(geometries=[tibia, late_men_shifted, med_men_shifted])"
   ]
  },
  {
   "cell_type": "code",
   "execution_count": 37,
   "id": "1f35114b",
   "metadata": {},
   "outputs": [
    {
     "name": "stdout",
     "output_type": "stream",
     "text": [
      "{'med_men_extrusion_middle_0.1p_mm': np.float32(3.8892097), 'lat_men_extrusion_middle_0.1p_mm': np.float32(-0.4709015)}\n"
     ]
    }
   ],
   "source": [
    "def get_med_lat_extrusion(\n",
    "    tibia_mesh,\n",
    "    regions_label,\n",
    "    med_cart_label,\n",
    "    lat_cart_label,\n",
    "    med_meniscus_mesh,\n",
    "    lat_meniscus_mesh,\n",
    "    ap_axis,\n",
    "    ml_axis,\n",
    "    middle_percentile_range=0.1,\n",
    "):\n",
    "    med_men_extrusion = get_extrusion_stats_percentile(\n",
    "        tibia_mesh=tibia,\n",
    "        regions_label='labels',\n",
    "        cart_label=med_cart_label,\n",
    "        meniscus_mesh=med_meniscus_mesh,\n",
    "        ap_axis=ap_axis,\n",
    "        ml_axis=ml_axis,\n",
    "        middle_percentile_range=middle_percentile_range,\n",
    "        side='med',\n",
    "    )\n",
    "    \n",
    "    lat_men_extrusion = get_extrusion_stats_percentile(\n",
    "        tibia_mesh=tibia,\n",
    "        regions_label='labels',\n",
    "        cart_label=lat_cart_label,\n",
    "        meniscus_mesh=lat_meniscus_mesh,\n",
    "        ap_axis=ap_axis,\n",
    "        ml_axis=ml_axis,\n",
    "        middle_percentile_range=middle_percentile_range,\n",
    "        side='lat',\n",
    "    )\n",
    "    \n",
    "    dict_extrusions = {\n",
    "        f'med_men_extrusion_middle_{middle_percentile_range}p_mm': med_men_extrusion,\n",
    "        f'lat_men_extrusion_middle_{middle_percentile_range}p_mm': lat_men_extrusion,\n",
    "    }\n",
    "    return dict_extrusions\n",
    "    \n",
    "\n",
    "dict_extrusions = get_med_lat_extrusion(\n",
    "    tibia_mesh=tibia,\n",
    "    regions_label='labels',\n",
    "    med_cart_label=2,\n",
    "    lat_cart_label=3,\n",
    "    med_meniscus_mesh=med_meniscus,\n",
    "    lat_meniscus_mesh=lat_meniscus,\n",
    "    ap_axis=dict_tibia_axes['ap_axis'],\n",
    "    ml_axis=dict_tibia_axes['ml_axis'],\n",
    "    middle_percentile_range=0.1,\n",
    ")\n",
    "\n",
    "\n",
    "print(dict_extrusions)"
   ]
  }
 ],
 "metadata": {
  "kernelspec": {
   "display_name": "mskt",
   "language": "python",
   "name": "python3"
  },
  "language_info": {
   "codemirror_mode": {
    "name": "ipython",
    "version": 3
   },
   "file_extension": ".py",
   "mimetype": "text/x-python",
   "name": "python",
   "nbconvert_exporter": "python",
   "pygments_lexer": "ipython3",
   "version": "3.11.14"
  }
 },
 "nbformat": 4,
 "nbformat_minor": 5
}
