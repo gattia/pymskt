{
 "cells": [
  {
   "cell_type": "code",
   "execution_count": 1,
   "id": "e24e17aa",
   "metadata": {},
   "outputs": [],
   "source": [
    "import pymskt as mskt\n",
    "from itkwidgets import view\n",
    "import numpy as np\n",
    "import os\n",
    "import matplotlib.pyplot as plt"
   ]
  },
  {
   "cell_type": "code",
   "execution_count": 2,
   "id": "e59a475b",
   "metadata": {},
   "outputs": [
    {
     "name": "stdout",
     "output_type": "stream",
     "text": [
      "Initiating tibia mesh\n",
      "Creating tibia mesh\n",
      "Calculating cartilage thickness\n",
      "WARNING: Mesh is now synonymous with pyvista.PolyData and thus this property is redundant and the Mesh object can be used for anything that pyvista.PolyData or vtk.vtkPolyData can be used for.\n",
      "WARNING: Mesh is now synonymous with pyvista.PolyData and thus this property is redundant and the Mesh object can be used for anything that pyvista.PolyData or vtk.vtkPolyData can be used for.\n",
      "INTERSECTION IS:  2\n",
      "INTERSECTION IS:  2\n",
      "Assigning cartilage regions\n",
      "INTERSECTION IS:  2\n",
      "INTERSECTION IS:  2\n",
      "Medial extrusion: 3.89 mm\n",
      "Medial coverage: 39.9%\n",
      "Lateral extrusion: -0.47 mm\n",
      "Lateral coverage: 59.4%\n"
     ]
    }
   ],
   "source": [
    "path_segmentation = '../../data/SAG_3D_DESS_RIGHT_bones_cart_men_fib-label.nrrd'\n",
    "\n",
    "print('Initiating tibia mesh')\n",
    "tibia = mskt.mesh.BoneMesh(\n",
    "    path_seg_image=path_segmentation,\n",
    "    label_idx=6,\n",
    "    dict_cartilage_labels={'medial': 2, 'lateral': 3}  # Only dict needed!\n",
    ")\n",
    "\n",
    "print('Creating tibia mesh')\n",
    "tibia.create_mesh()\n",
    "\n",
    "print('Calculating cartilage thickness')\n",
    "tibia.calc_cartilage_thickness()\n",
    "print('Assigning cartilage regions')\n",
    "tibia.assign_cartilage_regions()\n",
    "\n",
    "med_meniscus = mskt.mesh.Mesh(\n",
    "    path_seg_image=path_segmentation,\n",
    "    label_idx=10,\n",
    ")\n",
    "med_meniscus.create_mesh()\n",
    "med_meniscus.consistent_faces()\n",
    "\n",
    "lat_meniscus = mskt.mesh.Mesh(\n",
    "    path_seg_image=path_segmentation,\n",
    "    label_idx=9,\n",
    ")\n",
    "lat_meniscus.create_mesh()\n",
    "lat_meniscus.consistent_faces()\n",
    "\n",
    "# Clean API - no need to specify labels again!\n",
    "tibia.set_menisci(\n",
    "    medial_meniscus=med_meniscus,\n",
    "    lateral_meniscus=lat_meniscus\n",
    ")\n",
    "\n",
    "# Access metrics via properties - auto-computes on first access!\n",
    "print(f\"Medial extrusion: {tibia.med_men_extrusion:.2f} mm\")\n",
    "print(f\"Medial coverage: {tibia.med_men_coverage:.1f}%\")\n",
    "print(f\"Lateral extrusion: {tibia.lat_men_extrusion:.2f} mm\")\n",
    "print(f\"Lateral coverage: {tibia.lat_men_coverage:.1f}%\")\n",
    "\n",
    "\n"
   ]
  }
 ],
 "metadata": {
  "kernelspec": {
   "display_name": "mskt",
   "language": "python",
   "name": "python3"
  },
  "language_info": {
   "codemirror_mode": {
    "name": "ipython",
    "version": 3
   },
   "file_extension": ".py",
   "mimetype": "text/x-python",
   "name": "python",
   "nbconvert_exporter": "python",
   "pygments_lexer": "ipython3",
   "version": "3.11.14"
  }
 },
 "nbformat": 4,
 "nbformat_minor": 5
}
