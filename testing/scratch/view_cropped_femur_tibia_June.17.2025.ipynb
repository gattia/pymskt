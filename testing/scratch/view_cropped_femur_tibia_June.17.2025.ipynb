{
 "cells": [
  {
   "cell_type": "code",
   "execution_count": 1,
   "metadata": {},
   "outputs": [],
   "source": [
    "from itkwidgets import view\n",
    "from pymskt.mesh import Mesh\n",
    "import os"
   ]
  },
  {
   "cell_type": "code",
   "execution_count": 2,
   "metadata": {},
   "outputs": [],
   "source": [
    "data_folder = '/dataNAS/people/aagatti/programming/pymskt/data'\n",
    "path_old_femur = os.path.join(data_folder, \"femur_cropped_cartilage_thick_roi_full_pts.vtk\")\n",
    "path_old_tibia = os.path.join(data_folder, \"tibia_smoothed_image_cropped.vtk\")\n",
    "\n",
    "path_new_femur = os.path.join(data_folder, \"femur_cropped_test.vtk\")\n",
    "path_new_tibia = os.path.join(data_folder, \"tibia_cropped_test.vtk\")\n",
    "\n",
    "mesh_old_femur = Mesh(path_old_femur)\n",
    "mesh_old_tibia = Mesh(path_old_tibia)\n",
    "mesh_new_femur = Mesh(path_new_femur)\n",
    "mesh_new_tibia = Mesh(path_new_tibia)"
   ]
  },
  {
   "cell_type": "code",
   "execution_count": 3,
   "metadata": {},
   "outputs": [],
   "source": [
    "sdf_femur = mesh_old_femur.get_sdf_pts(mesh_new_femur.point_coords)\n",
    "sdf_tibia = mesh_old_tibia.get_sdf_pts(mesh_new_tibia.point_coords)\n",
    "\n",
    "mesh_new_femur['sdf_old'] = sdf_femur\n",
    "mesh_new_tibia['sdf_old'] = sdf_tibia\n",
    "\n"
   ]
  },
  {
   "cell_type": "code",
   "execution_count": 5,
   "metadata": {},
   "outputs": [
    {
     "data": {
      "application/vnd.jupyter.widget-view+json": {
       "model_id": "ae247674f10c4412b1e7878b9a267cc7",
       "version_major": 2,
       "version_minor": 0
      },
      "text/plain": [
       "Viewer(geometries=[{'vtkClass': 'vtkPolyData', 'points': {'vtkClass': 'vtkPoints', 'name': '_points', 'numberO…"
      ]
     },
     "metadata": {},
     "output_type": "display_data"
    }
   ],
   "source": [
    "view(geometries=[\n",
    "    mesh_new_femur,\n",
    "    mesh_old_femur,\n",
    "    mesh_new_tibia,\n",
    "    mesh_old_tibia,\n",
    "])"
   ]
  },
  {
   "cell_type": "code",
   "execution_count": null,
   "metadata": {},
   "outputs": [],
   "source": []
  }
 ],
 "metadata": {
  "kernelspec": {
   "display_name": "NSM",
   "language": "python",
   "name": "python3"
  },
  "language_info": {
   "codemirror_mode": {
    "name": "ipython",
    "version": 3
   },
   "file_extension": ".py",
   "mimetype": "text/x-python",
   "name": "python",
   "nbconvert_exporter": "python",
   "pygments_lexer": "ipython3",
   "version": "3.8.17"
  }
 },
 "nbformat": 4,
 "nbformat_minor": 2
}
