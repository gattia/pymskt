{
 "cells": [
  {
   "cell_type": "code",
   "execution_count": 1,
   "metadata": {},
   "outputs": [],
   "source": [
    "import pymskt as mskt\n",
    "from pymskt.utils import testing\n",
    "import numpy as np\n",
    "\n",
    "MESH = mskt.mesh.io.read_vtk(\"../../data/femur_mesh_orig.vtk\")\n",
    "MESH_RESAMPLED = mskt.mesh.Mesh(mskt.mesh.io.read_vtk(\"../../data/femur_mesh_10k_pts.vtk\"))\n",
    "\n",
    "from pymskt import ATOL, RTOL"
   ]
  },
  {
   "cell_type": "code",
   "execution_count": 2,
   "metadata": {},
   "outputs": [],
   "source": [
    "mesh_=MESH\n",
    "mesh_resampled=MESH_RESAMPLED"
   ]
  },
  {
   "cell_type": "code",
   "execution_count": 4,
   "metadata": {},
   "outputs": [
    {
     "name": "stdout",
     "output_type": "stream",
     "text": [
      "WARNING: Mesh is now synonymous with pyvista.PolyData and thus this property is redundant and the Mesh object can be used for anything that pyvista.PolyData or vtk.vtkPolyData can be used for.\n"
     ]
    },
    {
     "ename": "AssertionError",
     "evalue": "\nNot equal to tolerance rtol=0.0001, atol=1e-05\n\nMismatched elements: 20474 / 30000 (68.2%)\nMax absolute difference among violations: 0.50138453\nMax relative difference among violations: 83.09995439\n ACTUAL: pyvista_ndarray([[ -26.318705,  -19.893911,   19.487003],\n                 [ -25.734666,  -19.407015,   18.267033],\n                 [ -26.207616,  -18.229988,   19.170485],...\n DESIRED: pyvista_ndarray([[ -26.370816,  -19.885655,   19.463291],\n                 [ -25.688805,  -19.410051,   18.274704],\n                 [ -26.202112,  -18.228969,   19.173002],...",
     "output_type": "error",
     "traceback": [
      "\u001b[0;31m---------------------------------------------------------------------------\u001b[0m",
      "\u001b[0;31mAssertionError\u001b[0m                            Traceback (most recent call last)",
      "Cell \u001b[0;32mIn[4], line 3\u001b[0m\n\u001b[1;32m      1\u001b[0m mesh \u001b[38;5;241m=\u001b[39m mskt\u001b[38;5;241m.\u001b[39mmesh\u001b[38;5;241m.\u001b[39mMesh(mesh\u001b[38;5;241m=\u001b[39mmesh_)\n\u001b[1;32m      2\u001b[0m mesh\u001b[38;5;241m.\u001b[39mresample_surface(subdivisions\u001b[38;5;241m=\u001b[39m\u001b[38;5;241m2\u001b[39m, clusters\u001b[38;5;241m=\u001b[39m\u001b[38;5;241m10000\u001b[39m)\n\u001b[0;32m----> 3\u001b[0m \u001b[43mtesting\u001b[49m\u001b[38;5;241;43m.\u001b[39;49m\u001b[43massert_mesh_coordinates_same\u001b[49m\u001b[43m(\u001b[49m\u001b[43mmesh_resampled\u001b[49m\u001b[43m,\u001b[49m\u001b[43m \u001b[49m\u001b[43mmesh\u001b[49m\u001b[38;5;241;43m.\u001b[39;49m\u001b[43mmesh\u001b[49m\u001b[43m,\u001b[49m\u001b[43m \u001b[49m\u001b[43mrtol\u001b[49m\u001b[38;5;241;43m=\u001b[39;49m\u001b[43mRTOL\u001b[49m\u001b[43m,\u001b[49m\u001b[43m \u001b[49m\u001b[43matol\u001b[49m\u001b[38;5;241;43m=\u001b[39;49m\u001b[43mATOL\u001b[49m\u001b[43m)\u001b[49m\n",
      "File \u001b[0;32m/dataNAS/people/aagatti/programming/pymskt/pymskt/utils/testing.py:43\u001b[0m, in \u001b[0;36massert_mesh_coordinates_same\u001b[0;34m(mesh1, mesh2, rtol, atol)\u001b[0m\n\u001b[1;32m     31\u001b[0m \u001b[38;5;28;01mdef\u001b[39;00m \u001b[38;5;21massert_mesh_coordinates_same\u001b[39m(mesh1, mesh2, rtol\u001b[38;5;241m=\u001b[39m\u001b[38;5;241m1e-4\u001b[39m, atol\u001b[38;5;241m=\u001b[39m\u001b[38;5;241m1e-5\u001b[39m):\n\u001b[1;32m     32\u001b[0m \u001b[38;5;250m    \u001b[39m\u001b[38;5;124;03m\"\"\"\u001b[39;00m\n\u001b[1;32m     33\u001b[0m \u001b[38;5;124;03m    Helper function to assert that 2 vtkPolyData meshes points are the same.\u001b[39;00m\n\u001b[1;32m     34\u001b[0m \n\u001b[0;32m   (...)\u001b[0m\n\u001b[1;32m     40\u001b[0m \u001b[38;5;124;03m        Version 2 of the mesh\u001b[39;00m\n\u001b[1;32m     41\u001b[0m \u001b[38;5;124;03m    \"\"\"\u001b[39;00m\n\u001b[0;32m---> 43\u001b[0m     \u001b[43massert_allclose\u001b[49m\u001b[43m(\u001b[49m\u001b[43mmesh1\u001b[49m\u001b[38;5;241;43m.\u001b[39;49m\u001b[43mpoints\u001b[49m\u001b[43m,\u001b[49m\u001b[43m \u001b[49m\u001b[43mmesh2\u001b[49m\u001b[38;5;241;43m.\u001b[39;49m\u001b[43mpoints\u001b[49m\u001b[43m,\u001b[49m\u001b[43m \u001b[49m\u001b[43mrtol\u001b[49m\u001b[38;5;241;43m=\u001b[39;49m\u001b[43mrtol\u001b[49m\u001b[43m,\u001b[49m\u001b[43m \u001b[49m\u001b[43matol\u001b[49m\u001b[38;5;241;43m=\u001b[39;49m\u001b[43matol\u001b[49m\u001b[43m)\u001b[49m\n",
      "    \u001b[0;31m[... skipping hidden 1 frame]\u001b[0m\n",
      "File \u001b[0;32m/dataNAS/people/aagatti/miniconda/envs/pymskt_3_9/lib/python3.9/contextlib.py:79\u001b[0m, in \u001b[0;36mContextDecorator.__call__.<locals>.inner\u001b[0;34m(*args, **kwds)\u001b[0m\n\u001b[1;32m     76\u001b[0m \u001b[38;5;129m@wraps\u001b[39m(func)\n\u001b[1;32m     77\u001b[0m \u001b[38;5;28;01mdef\u001b[39;00m \u001b[38;5;21minner\u001b[39m(\u001b[38;5;241m*\u001b[39margs, \u001b[38;5;241m*\u001b[39m\u001b[38;5;241m*\u001b[39mkwds):\n\u001b[1;32m     78\u001b[0m     \u001b[38;5;28;01mwith\u001b[39;00m \u001b[38;5;28mself\u001b[39m\u001b[38;5;241m.\u001b[39m_recreate_cm():\n\u001b[0;32m---> 79\u001b[0m         \u001b[38;5;28;01mreturn\u001b[39;00m \u001b[43mfunc\u001b[49m\u001b[43m(\u001b[49m\u001b[38;5;241;43m*\u001b[39;49m\u001b[43margs\u001b[49m\u001b[43m,\u001b[49m\u001b[43m \u001b[49m\u001b[38;5;241;43m*\u001b[39;49m\u001b[38;5;241;43m*\u001b[39;49m\u001b[43mkwds\u001b[49m\u001b[43m)\u001b[49m\n",
      "File \u001b[0;32m/dataNAS/people/aagatti/miniconda/envs/pymskt_3_9/lib/python3.9/site-packages/numpy/testing/_private/utils.py:885\u001b[0m, in \u001b[0;36massert_array_compare\u001b[0;34m(comparison, x, y, err_msg, verbose, header, precision, equal_nan, equal_inf, strict, names)\u001b[0m\n\u001b[1;32m    880\u001b[0m         err_msg \u001b[38;5;241m+\u001b[39m\u001b[38;5;241m=\u001b[39m \u001b[38;5;124m'\u001b[39m\u001b[38;5;130;01m\\n\u001b[39;00m\u001b[38;5;124m'\u001b[39m \u001b[38;5;241m+\u001b[39m \u001b[38;5;124m'\u001b[39m\u001b[38;5;130;01m\\n\u001b[39;00m\u001b[38;5;124m'\u001b[39m\u001b[38;5;241m.\u001b[39mjoin(remarks)\n\u001b[1;32m    881\u001b[0m         msg \u001b[38;5;241m=\u001b[39m build_err_msg([ox, oy], err_msg,\n\u001b[1;32m    882\u001b[0m                             verbose\u001b[38;5;241m=\u001b[39mverbose, header\u001b[38;5;241m=\u001b[39mheader,\n\u001b[1;32m    883\u001b[0m                             names\u001b[38;5;241m=\u001b[39mnames,\n\u001b[1;32m    884\u001b[0m                             precision\u001b[38;5;241m=\u001b[39mprecision)\n\u001b[0;32m--> 885\u001b[0m         \u001b[38;5;28;01mraise\u001b[39;00m \u001b[38;5;167;01mAssertionError\u001b[39;00m(msg)\n\u001b[1;32m    886\u001b[0m \u001b[38;5;28;01mexcept\u001b[39;00m \u001b[38;5;167;01mValueError\u001b[39;00m:\n\u001b[1;32m    887\u001b[0m     \u001b[38;5;28;01mimport\u001b[39;00m \u001b[38;5;21;01mtraceback\u001b[39;00m\n",
      "\u001b[0;31mAssertionError\u001b[0m: \nNot equal to tolerance rtol=0.0001, atol=1e-05\n\nMismatched elements: 20474 / 30000 (68.2%)\nMax absolute difference among violations: 0.50138453\nMax relative difference among violations: 83.09995439\n ACTUAL: pyvista_ndarray([[ -26.318705,  -19.893911,   19.487003],\n                 [ -25.734666,  -19.407015,   18.267033],\n                 [ -26.207616,  -18.229988,   19.170485],...\n DESIRED: pyvista_ndarray([[ -26.370816,  -19.885655,   19.463291],\n                 [ -25.688805,  -19.410051,   18.274704],\n                 [ -26.202112,  -18.228969,   19.173002],..."
     ]
    }
   ],
   "source": [
    "mesh = mskt.mesh.Mesh(mesh=mesh_)\n",
    "mesh.resample_surface(subdivisions=2, clusters=10000)\n",
    "testing.assert_mesh_coordinates_same(mesh_resampled, mesh.mesh, rtol=RTOL, atol=ATOL)\n"
   ]
  },
  {
   "cell_type": "code",
   "execution_count": 5,
   "metadata": {},
   "outputs": [
    {
     "data": {
      "text/plain": [
       "np.float64(0.03371616748377437)"
      ]
     },
     "execution_count": 5,
     "metadata": {},
     "output_type": "execute_result"
    }
   ],
   "source": [
    "mesh.get_assd(mesh_resampled)"
   ]
  },
  {
   "cell_type": "code",
   "execution_count": 6,
   "metadata": {},
   "outputs": [
    {
     "name": "stdout",
     "output_type": "stream",
     "text": [
      "ASSD: 2.07%\n"
     ]
    }
   ],
   "source": [
    "mean_edge_1 = np.mean(mesh.edge_lengths)\n",
    "mean_edge_2 = np.mean(mesh_resampled.edge_lengths)\n",
    "mean_edges = np.mean([mean_edge_1, mean_edge_2])\n",
    "assd = mesh.get_assd(mesh_resampled)\n",
    "# assd as a percentage of mean_edges\n",
    "assd_percentage = assd / mean_edges * 100\n",
    "print(f\"ASSD: {assd_percentage:.2f}%\")\n"
   ]
  },
  {
   "cell_type": "code",
   "execution_count": 7,
   "metadata": {},
   "outputs": [
    {
     "data": {
      "text/plain": [
       "np.float64(0.020878467715068037)"
      ]
     },
     "execution_count": 7,
     "metadata": {},
     "output_type": "execute_result"
    }
   ],
   "source": [
    "0.034/mean_edges"
   ]
  },
  {
   "cell_type": "code",
   "execution_count": 8,
   "metadata": {},
   "outputs": [
    {
     "name": "stdout",
     "output_type": "stream",
     "text": [
      "1.6317717982720914\n",
      "1.1470287512875705\n",
      "2.258234945359352\n",
      "1.6251721943622075\n",
      "0.9531010408186237\n",
      "2.2582313030096817\n"
     ]
    }
   ],
   "source": [
    "print(np.mean(mesh.edge_lengths))\n",
    "print(np.min(mesh.edge_lengths))\n",
    "print(np.max(mesh.edge_lengths))\n",
    "print(np.mean(mesh_resampled.edge_lengths))\n",
    "print(np.min(mesh_resampled.edge_lengths))\n",
    "print(np.max(mesh_resampled.edge_lengths))\n"
   ]
  }
 ],
 "metadata": {
  "kernelspec": {
   "display_name": "pymskt_3_9",
   "language": "python",
   "name": "python3"
  },
  "language_info": {
   "codemirror_mode": {
    "name": "ipython",
    "version": 3
   },
   "file_extension": ".py",
   "mimetype": "text/x-python",
   "name": "python",
   "nbconvert_exporter": "python",
   "pygments_lexer": "ipython3",
   "version": "3.9.21"
  }
 },
 "nbformat": 4,
 "nbformat_minor": 2
}
